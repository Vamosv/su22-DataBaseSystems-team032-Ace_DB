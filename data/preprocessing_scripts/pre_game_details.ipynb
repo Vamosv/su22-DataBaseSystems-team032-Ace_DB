{
 "cells": [
  {
   "cell_type": "code",
   "execution_count": 1,
   "id": "5cee0969-05af-412a-8764-f71d347bb4ea",
   "metadata": {},
   "outputs": [],
   "source": [
    "import pandas as pd"
   ]
  },
  {
   "cell_type": "code",
   "execution_count": 277,
   "id": "d967eab7-37fd-4085-a579-9be3bfde752c",
   "metadata": {},
   "outputs": [],
   "source": [
    "df = pd.read_csv('repo/bgg-19m-reviews.csv')"
   ]
  },
  {
   "cell_type": "code",
   "execution_count": 278,
   "id": "4074673f-dde5-4ee0-93c1-a8f942e82e42",
   "metadata": {},
   "outputs": [
    {
     "data": {
      "text/plain": [
       "Index(['Unnamed: 0', 'user', 'rating', 'comment', 'ID', 'name'], dtype='object')"
      ]
     },
     "execution_count": 278,
     "metadata": {},
     "output_type": "execute_result"
    }
   ],
   "source": [
    "df.columns"
   ]
  },
  {
   "cell_type": "code",
   "execution_count": 279,
   "id": "c869b627-6657-4dea-af3e-3404036f0eb8",
   "metadata": {},
   "outputs": [
    {
     "data": {
      "text/html": [
       "<div>\n",
       "<style scoped>\n",
       "    .dataframe tbody tr th:only-of-type {\n",
       "        vertical-align: middle;\n",
       "    }\n",
       "\n",
       "    .dataframe tbody tr th {\n",
       "        vertical-align: top;\n",
       "    }\n",
       "\n",
       "    .dataframe thead th {\n",
       "        text-align: right;\n",
       "    }\n",
       "</style>\n",
       "<table border=\"1\" class=\"dataframe\">\n",
       "  <thead>\n",
       "    <tr style=\"text-align: right;\">\n",
       "      <th></th>\n",
       "      <th>Unnamed: 0</th>\n",
       "      <th>user</th>\n",
       "      <th>rating</th>\n",
       "      <th>comment</th>\n",
       "      <th>ID</th>\n",
       "      <th>name</th>\n",
       "    </tr>\n",
       "  </thead>\n",
       "  <tbody>\n",
       "    <tr>\n",
       "      <th>0</th>\n",
       "      <td>0</td>\n",
       "      <td>Torsten</td>\n",
       "      <td>10.0</td>\n",
       "      <td>NaN</td>\n",
       "      <td>30549.0</td>\n",
       "      <td>Pandemic</td>\n",
       "    </tr>\n",
       "    <tr>\n",
       "      <th>1</th>\n",
       "      <td>1</td>\n",
       "      <td>mitnachtKAUBO-I</td>\n",
       "      <td>10.0</td>\n",
       "      <td>Hands down my favorite new game of BGG CON 200...</td>\n",
       "      <td>30549.0</td>\n",
       "      <td>Pandemic</td>\n",
       "    </tr>\n",
       "    <tr>\n",
       "      <th>2</th>\n",
       "      <td>2</td>\n",
       "      <td>avlawn</td>\n",
       "      <td>10.0</td>\n",
       "      <td>I tend to either love or easily tire of co-op ...</td>\n",
       "      <td>30549.0</td>\n",
       "      <td>Pandemic</td>\n",
       "    </tr>\n",
       "    <tr>\n",
       "      <th>3</th>\n",
       "      <td>3</td>\n",
       "      <td>Mike Mayer</td>\n",
       "      <td>10.0</td>\n",
       "      <td>NaN</td>\n",
       "      <td>30549.0</td>\n",
       "      <td>Pandemic</td>\n",
       "    </tr>\n",
       "    <tr>\n",
       "      <th>4</th>\n",
       "      <td>4</td>\n",
       "      <td>Mease19</td>\n",
       "      <td>10.0</td>\n",
       "      <td>This is an amazing co-op game.  I play mostly ...</td>\n",
       "      <td>30549.0</td>\n",
       "      <td>Pandemic</td>\n",
       "    </tr>\n",
       "  </tbody>\n",
       "</table>\n",
       "</div>"
      ],
      "text/plain": [
       "   Unnamed: 0             user  rating  \\\n",
       "0           0          Torsten    10.0   \n",
       "1           1  mitnachtKAUBO-I    10.0   \n",
       "2           2           avlawn    10.0   \n",
       "3           3       Mike Mayer    10.0   \n",
       "4           4          Mease19    10.0   \n",
       "\n",
       "                                             comment       ID      name  \n",
       "0                                                NaN  30549.0  Pandemic  \n",
       "1  Hands down my favorite new game of BGG CON 200...  30549.0  Pandemic  \n",
       "2  I tend to either love or easily tire of co-op ...  30549.0  Pandemic  \n",
       "3                                                NaN  30549.0  Pandemic  \n",
       "4  This is an amazing co-op game.  I play mostly ...  30549.0  Pandemic  "
      ]
     },
     "execution_count": 279,
     "metadata": {},
     "output_type": "execute_result"
    }
   ],
   "source": [
    "df.head()"
   ]
  },
  {
   "cell_type": "code",
   "execution_count": 280,
   "id": "17dfa362-c515-4e90-a361-a1ca6a5e3475",
   "metadata": {},
   "outputs": [
    {
     "data": {
      "text/plain": [
       "10197732"
      ]
     },
     "execution_count": 280,
     "metadata": {},
     "output_type": "execute_result"
    }
   ],
   "source": [
    "df['comment'].isna().sum()"
   ]
  },
  {
   "cell_type": "code",
   "execution_count": 281,
   "id": "be2c4f16-1d30-452e-8377-d11c3492c235",
   "metadata": {},
   "outputs": [
    {
     "data": {
      "text/plain": [
       "1100"
      ]
     },
     "execution_count": 281,
     "metadata": {},
     "output_type": "execute_result"
    }
   ],
   "source": [
    "# there are 1,100 unique games in the original dataset\n",
    "\n",
    "df['ID'].nunique()"
   ]
  },
  {
   "cell_type": "code",
   "execution_count": 306,
   "id": "a38857a7-1acf-4891-9670-6381ee4c529e",
   "metadata": {},
   "outputs": [],
   "source": [
    "dropped = df.dropna(subset=['comment'])"
   ]
  },
  {
   "cell_type": "code",
   "execution_count": 307,
   "id": "5ed91e22-7531-4d8a-9f39-a0eb7c9d7987",
   "metadata": {},
   "outputs": [
    {
     "data": {
      "text/plain": [
       "1100"
      ]
     },
     "execution_count": 307,
     "metadata": {},
     "output_type": "execute_result"
    }
   ],
   "source": [
    "dropped['ID'].nunique() # checking count of unique games after dropping null comment rows"
   ]
  },
  {
   "cell_type": "code",
   "execution_count": 308,
   "id": "17df1661-2d74-4a61-b343-bb7da8ce6585",
   "metadata": {},
   "outputs": [
    {
     "data": {
      "text/plain": [
       "1880805"
      ]
     },
     "execution_count": 308,
     "metadata": {},
     "output_type": "execute_result"
    }
   ],
   "source": [
    "dropped['comment'].isna().sum() # no nulls in comment column left\n",
    "dropped.shape[0] # num rows"
   ]
  },
  {
   "cell_type": "code",
   "execution_count": 309,
   "id": "bef7de38-bd63-4691-a0ac-f694e3807e5d",
   "metadata": {},
   "outputs": [
    {
     "name": "stderr",
     "output_type": "stream",
     "text": [
      "C:\\WINDOWS\\TEMP/ipykernel_8112/3477455906.py:1: SettingWithCopyWarning: \n",
      "A value is trying to be set on a copy of a slice from a DataFrame.\n",
      "Try using .loc[row_indexer,col_indexer] = value instead\n",
      "\n",
      "See the caveats in the documentation: https://pandas.pydata.org/pandas-docs/stable/user_guide/indexing.html#returning-a-view-versus-a-copy\n",
      "  dropped['comm_len'] = dropped['comment'].str.len() # count of chars of comment\n"
     ]
    },
    {
     "data": {
      "text/plain": [
       "(162709, 1100)"
      ]
     },
     "execution_count": 309,
     "metadata": {},
     "output_type": "execute_result"
    }
   ],
   "source": [
    "dropped['comm_len'] = dropped['comment'].str.len() # count of chars of comment\n",
    "dropped = dropped[dropped['comm_len'] > 500]\n",
    "\n",
    "dropped.shape[0], dropped['ID'].nunique()"
   ]
  },
  {
   "cell_type": "code",
   "execution_count": 310,
   "id": "a6340f7a-2785-42e7-a429-57ef39e0a3ab",
   "metadata": {},
   "outputs": [],
   "source": [
    "dropped['num_comments'] = 1\n",
    "dropped = dropped [['ID', 'comm_len', 'num_comments', 'comment']]"
   ]
  },
  {
   "cell_type": "code",
   "execution_count": 311,
   "id": "32423984-66af-48a6-ba29-463140b60b50",
   "metadata": {},
   "outputs": [
    {
     "data": {
      "text/html": [
       "<div>\n",
       "<style scoped>\n",
       "    .dataframe tbody tr th:only-of-type {\n",
       "        vertical-align: middle;\n",
       "    }\n",
       "\n",
       "    .dataframe tbody tr th {\n",
       "        vertical-align: top;\n",
       "    }\n",
       "\n",
       "    .dataframe thead th {\n",
       "        text-align: right;\n",
       "    }\n",
       "</style>\n",
       "<table border=\"1\" class=\"dataframe\">\n",
       "  <thead>\n",
       "    <tr style=\"text-align: right;\">\n",
       "      <th></th>\n",
       "      <th>ID</th>\n",
       "      <th>comm_len</th>\n",
       "      <th>num_comments</th>\n",
       "      <th>comment</th>\n",
       "    </tr>\n",
       "  </thead>\n",
       "  <tbody>\n",
       "    <tr>\n",
       "      <th>5</th>\n",
       "      <td>30549.0</td>\n",
       "      <td>1235</td>\n",
       "      <td>1</td>\n",
       "      <td>Hey! I can finally rate this game I've been pl...</td>\n",
       "    </tr>\n",
       "    <tr>\n",
       "      <th>9</th>\n",
       "      <td>30549.0</td>\n",
       "      <td>502</td>\n",
       "      <td>1</td>\n",
       "      <td>Fun, fun game. Strategy is required, but defin...</td>\n",
       "    </tr>\n",
       "    <tr>\n",
       "      <th>17</th>\n",
       "      <td>30549.0</td>\n",
       "      <td>1349</td>\n",
       "      <td>1</td>\n",
       "      <td>When this game first came out I followed it cl...</td>\n",
       "    </tr>\n",
       "    <tr>\n",
       "      <th>29</th>\n",
       "      <td>30549.0</td>\n",
       "      <td>892</td>\n",
       "      <td>1</td>\n",
       "      <td>Pre-order: Boards &amp; Bits  I actually have the ...</td>\n",
       "    </tr>\n",
       "    <tr>\n",
       "      <th>66</th>\n",
       "      <td>30549.0</td>\n",
       "      <td>751</td>\n",
       "      <td>1</td>\n",
       "      <td>I originally rated this as a 9 and had to rais...</td>\n",
       "    </tr>\n",
       "  </tbody>\n",
       "</table>\n",
       "</div>"
      ],
      "text/plain": [
       "         ID  comm_len  num_comments  \\\n",
       "5   30549.0      1235             1   \n",
       "9   30549.0       502             1   \n",
       "17  30549.0      1349             1   \n",
       "29  30549.0       892             1   \n",
       "66  30549.0       751             1   \n",
       "\n",
       "                                              comment  \n",
       "5   Hey! I can finally rate this game I've been pl...  \n",
       "9   Fun, fun game. Strategy is required, but defin...  \n",
       "17  When this game first came out I followed it cl...  \n",
       "29  Pre-order: Boards & Bits  I actually have the ...  \n",
       "66  I originally rated this as a 9 and had to rais...  "
      ]
     },
     "execution_count": 311,
     "metadata": {},
     "output_type": "execute_result"
    }
   ],
   "source": [
    "dropped.head()"
   ]
  },
  {
   "cell_type": "code",
   "execution_count": 312,
   "id": "9e48aa1a-c6ea-4684-b1c3-00360128e2fc",
   "metadata": {},
   "outputs": [
    {
     "data": {
      "text/html": [
       "<div>\n",
       "<style scoped>\n",
       "    .dataframe tbody tr th:only-of-type {\n",
       "        vertical-align: middle;\n",
       "    }\n",
       "\n",
       "    .dataframe tbody tr th {\n",
       "        vertical-align: top;\n",
       "    }\n",
       "\n",
       "    .dataframe thead th {\n",
       "        text-align: right;\n",
       "    }\n",
       "</style>\n",
       "<table border=\"1\" class=\"dataframe\">\n",
       "  <thead>\n",
       "    <tr style=\"text-align: right;\">\n",
       "      <th></th>\n",
       "      <th>ID</th>\n",
       "      <th>num_comments</th>\n",
       "    </tr>\n",
       "  </thead>\n",
       "  <tbody>\n",
       "    <tr>\n",
       "      <th>710</th>\n",
       "      <td>157789.0</td>\n",
       "      <td>1</td>\n",
       "    </tr>\n",
       "    <tr>\n",
       "      <th>752</th>\n",
       "      <td>168917.0</td>\n",
       "      <td>1</td>\n",
       "    </tr>\n",
       "    <tr>\n",
       "      <th>136</th>\n",
       "      <td>1410.0</td>\n",
       "      <td>2</td>\n",
       "    </tr>\n",
       "    <tr>\n",
       "      <th>281</th>\n",
       "      <td>19841.0</td>\n",
       "      <td>3</td>\n",
       "    </tr>\n",
       "    <tr>\n",
       "      <th>654</th>\n",
       "      <td>145189.0</td>\n",
       "      <td>3</td>\n",
       "    </tr>\n",
       "    <tr>\n",
       "      <th>...</th>\n",
       "      <td>...</td>\n",
       "      <td>...</td>\n",
       "    </tr>\n",
       "    <tr>\n",
       "      <th>345</th>\n",
       "      <td>30549.0</td>\n",
       "      <td>1009</td>\n",
       "    </tr>\n",
       "    <tr>\n",
       "      <th>781</th>\n",
       "      <td>174430.0</td>\n",
       "      <td>1025</td>\n",
       "    </tr>\n",
       "    <tr>\n",
       "      <th>373</th>\n",
       "      <td>36218.0</td>\n",
       "      <td>1079</td>\n",
       "    </tr>\n",
       "    <tr>\n",
       "      <th>748</th>\n",
       "      <td>167791.0</td>\n",
       "      <td>1160</td>\n",
       "    </tr>\n",
       "    <tr>\n",
       "      <th>350</th>\n",
       "      <td>31260.0</td>\n",
       "      <td>1360</td>\n",
       "    </tr>\n",
       "  </tbody>\n",
       "</table>\n",
       "<p>1100 rows × 2 columns</p>\n",
       "</div>"
      ],
      "text/plain": [
       "           ID  num_comments\n",
       "710  157789.0             1\n",
       "752  168917.0             1\n",
       "136    1410.0             2\n",
       "281   19841.0             3\n",
       "654  145189.0             3\n",
       "..        ...           ...\n",
       "345   30549.0          1009\n",
       "781  174430.0          1025\n",
       "373   36218.0          1079\n",
       "748  167791.0          1160\n",
       "350   31260.0          1360\n",
       "\n",
       "[1100 rows x 2 columns]"
      ]
     },
     "execution_count": 312,
     "metadata": {},
     "output_type": "execute_result"
    }
   ],
   "source": [
    "# dropped['ID'] = dropped['ID'].astype(int)\n",
    "counts = dropped.groupby('ID').agg('count')\n",
    "\n",
    "counts.reset_index(inplace=True)\n",
    "counts = counts[['ID','num_comments']]\n",
    "counts.sort_values('num_comments')"
   ]
  },
  {
   "cell_type": "code",
   "execution_count": 313,
   "id": "4995046e-c49d-47ec-93e4-f4b3fa5d33f2",
   "metadata": {},
   "outputs": [
    {
     "data": {
      "text/plain": [
       "1063"
      ]
     },
     "execution_count": 313,
     "metadata": {},
     "output_type": "execute_result"
    }
   ],
   "source": [
    "over_100 = counts[counts['num_comments'] > 10]\n",
    "over_100['ID'].nunique()"
   ]
  },
  {
   "cell_type": "code",
   "execution_count": 314,
   "id": "05f1a643-75e7-4cc2-8d4b-702036db2f07",
   "metadata": {},
   "outputs": [],
   "source": [
    "merged = over_100.merge(dropped, how='left', left_on='ID', right_on='ID')"
   ]
  },
  {
   "cell_type": "code",
   "execution_count": 315,
   "id": "c5921b5a-d540-4810-b4a6-dce3337ce77c",
   "metadata": {},
   "outputs": [
    {
     "data": {
      "text/html": [
       "<div>\n",
       "<style scoped>\n",
       "    .dataframe tbody tr th:only-of-type {\n",
       "        vertical-align: middle;\n",
       "    }\n",
       "\n",
       "    .dataframe tbody tr th {\n",
       "        vertical-align: top;\n",
       "    }\n",
       "\n",
       "    .dataframe thead th {\n",
       "        text-align: right;\n",
       "    }\n",
       "</style>\n",
       "<table border=\"1\" class=\"dataframe\">\n",
       "  <thead>\n",
       "    <tr style=\"text-align: right;\">\n",
       "      <th></th>\n",
       "      <th>ID</th>\n",
       "      <th>num_comments_x</th>\n",
       "      <th>comm_len</th>\n",
       "      <th>num_comments_y</th>\n",
       "      <th>comment</th>\n",
       "    </tr>\n",
       "  </thead>\n",
       "  <tbody>\n",
       "    <tr>\n",
       "      <th>0</th>\n",
       "      <td>1.0</td>\n",
       "      <td>222</td>\n",
       "      <td>1080</td>\n",
       "      <td>1</td>\n",
       "      <td>This is simply my favorite game of all time.  ...</td>\n",
       "    </tr>\n",
       "    <tr>\n",
       "      <th>1</th>\n",
       "      <td>1.0</td>\n",
       "      <td>222</td>\n",
       "      <td>727</td>\n",
       "      <td>1</td>\n",
       "      <td>2004 Impressions are good after first 4-player...</td>\n",
       "    </tr>\n",
       "    <tr>\n",
       "      <th>2</th>\n",
       "      <td>1.0</td>\n",
       "      <td>222</td>\n",
       "      <td>528</td>\n",
       "      <td>1</td>\n",
       "      <td>Box structurally sound but dirty with a little...</td>\n",
       "    </tr>\n",
       "    <tr>\n",
       "      <th>3</th>\n",
       "      <td>1.0</td>\n",
       "      <td>222</td>\n",
       "      <td>1844</td>\n",
       "      <td>1</td>\n",
       "      <td>I have now played this game a number of times....</td>\n",
       "    </tr>\n",
       "    <tr>\n",
       "      <th>4</th>\n",
       "      <td>1.0</td>\n",
       "      <td>222</td>\n",
       "      <td>619</td>\n",
       "      <td>1</td>\n",
       "      <td>Reprint just arrived from Valley Games, and I'...</td>\n",
       "    </tr>\n",
       "    <tr>\n",
       "      <th>...</th>\n",
       "      <td>...</td>\n",
       "      <td>...</td>\n",
       "      <td>...</td>\n",
       "      <td>...</td>\n",
       "      <td>...</td>\n",
       "    </tr>\n",
       "    <tr>\n",
       "      <th>162468</th>\n",
       "      <td>329465.0</td>\n",
       "      <td>89</td>\n",
       "      <td>1246</td>\n",
       "      <td>1</td>\n",
       "      <td>update:   stay away from the collectors editio...</td>\n",
       "    </tr>\n",
       "    <tr>\n",
       "      <th>162469</th>\n",
       "      <td>329465.0</td>\n",
       "      <td>89</td>\n",
       "      <td>803</td>\n",
       "      <td>1</td>\n",
       "      <td>Boring repetition of playing a card for margin...</td>\n",
       "    </tr>\n",
       "    <tr>\n",
       "      <th>162470</th>\n",
       "      <td>329465.0</td>\n",
       "      <td>89</td>\n",
       "      <td>506</td>\n",
       "      <td>1</td>\n",
       "      <td>It looks good, but the gameplay is really simp...</td>\n",
       "    </tr>\n",
       "    <tr>\n",
       "      <th>162471</th>\n",
       "      <td>329465.0</td>\n",
       "      <td>89</td>\n",
       "      <td>727</td>\n",
       "      <td>1</td>\n",
       "      <td>Way too much reading. Especially when most of ...</td>\n",
       "    </tr>\n",
       "    <tr>\n",
       "      <th>162472</th>\n",
       "      <td>329465.0</td>\n",
       "      <td>89</td>\n",
       "      <td>1639</td>\n",
       "      <td>1</td>\n",
       "      <td>Yet another example of adding far too much to ...</td>\n",
       "    </tr>\n",
       "  </tbody>\n",
       "</table>\n",
       "<p>162473 rows × 5 columns</p>\n",
       "</div>"
      ],
      "text/plain": [
       "              ID  num_comments_x  comm_len  num_comments_y  \\\n",
       "0            1.0             222      1080               1   \n",
       "1            1.0             222       727               1   \n",
       "2            1.0             222       528               1   \n",
       "3            1.0             222      1844               1   \n",
       "4            1.0             222       619               1   \n",
       "...          ...             ...       ...             ...   \n",
       "162468  329465.0              89      1246               1   \n",
       "162469  329465.0              89       803               1   \n",
       "162470  329465.0              89       506               1   \n",
       "162471  329465.0              89       727               1   \n",
       "162472  329465.0              89      1639               1   \n",
       "\n",
       "                                                  comment  \n",
       "0       This is simply my favorite game of all time.  ...  \n",
       "1       2004 Impressions are good after first 4-player...  \n",
       "2       Box structurally sound but dirty with a little...  \n",
       "3       I have now played this game a number of times....  \n",
       "4       Reprint just arrived from Valley Games, and I'...  \n",
       "...                                                   ...  \n",
       "162468  update:   stay away from the collectors editio...  \n",
       "162469  Boring repetition of playing a card for margin...  \n",
       "162470  It looks good, but the gameplay is really simp...  \n",
       "162471  Way too much reading. Especially when most of ...  \n",
       "162472  Yet another example of adding far too much to ...  \n",
       "\n",
       "[162473 rows x 5 columns]"
      ]
     },
     "execution_count": 315,
     "metadata": {},
     "output_type": "execute_result"
    }
   ],
   "source": [
    "merged"
   ]
  },
  {
   "cell_type": "code",
   "execution_count": 316,
   "id": "e3a2b15e-50a2-464a-9aeb-95e056b86d9e",
   "metadata": {},
   "outputs": [
    {
     "data": {
      "text/html": [
       "<div>\n",
       "<style scoped>\n",
       "    .dataframe tbody tr th:only-of-type {\n",
       "        vertical-align: middle;\n",
       "    }\n",
       "\n",
       "    .dataframe tbody tr th {\n",
       "        vertical-align: top;\n",
       "    }\n",
       "\n",
       "    .dataframe thead th {\n",
       "        text-align: right;\n",
       "    }\n",
       "</style>\n",
       "<table border=\"1\" class=\"dataframe\">\n",
       "  <thead>\n",
       "    <tr style=\"text-align: right;\">\n",
       "      <th></th>\n",
       "      <th>ID</th>\n",
       "      <th>gameID_total_comments</th>\n",
       "      <th>comment</th>\n",
       "    </tr>\n",
       "  </thead>\n",
       "  <tbody>\n",
       "    <tr>\n",
       "      <th>0</th>\n",
       "      <td>1.0</td>\n",
       "      <td>222</td>\n",
       "      <td>This is simply my favorite game of all time.  ...</td>\n",
       "    </tr>\n",
       "    <tr>\n",
       "      <th>1</th>\n",
       "      <td>1.0</td>\n",
       "      <td>222</td>\n",
       "      <td>2004 Impressions are good after first 4-player...</td>\n",
       "    </tr>\n",
       "    <tr>\n",
       "      <th>2</th>\n",
       "      <td>1.0</td>\n",
       "      <td>222</td>\n",
       "      <td>Box structurally sound but dirty with a little...</td>\n",
       "    </tr>\n",
       "    <tr>\n",
       "      <th>3</th>\n",
       "      <td>1.0</td>\n",
       "      <td>222</td>\n",
       "      <td>I have now played this game a number of times....</td>\n",
       "    </tr>\n",
       "    <tr>\n",
       "      <th>4</th>\n",
       "      <td>1.0</td>\n",
       "      <td>222</td>\n",
       "      <td>Reprint just arrived from Valley Games, and I'...</td>\n",
       "    </tr>\n",
       "  </tbody>\n",
       "</table>\n",
       "</div>"
      ],
      "text/plain": [
       "    ID  gameID_total_comments  \\\n",
       "0  1.0                    222   \n",
       "1  1.0                    222   \n",
       "2  1.0                    222   \n",
       "3  1.0                    222   \n",
       "4  1.0                    222   \n",
       "\n",
       "                                             comment  \n",
       "0  This is simply my favorite game of all time.  ...  \n",
       "1  2004 Impressions are good after first 4-player...  \n",
       "2  Box structurally sound but dirty with a little...  \n",
       "3  I have now played this game a number of times....  \n",
       "4  Reprint just arrived from Valley Games, and I'...  "
      ]
     },
     "execution_count": 316,
     "metadata": {},
     "output_type": "execute_result"
    }
   ],
   "source": [
    "merged.rename(columns={'num_comments_x':'gameID_total_comments'}, inplace=True)\n",
    "merged = merged[['ID', 'gameID_total_comments', 'comment']]\n",
    "merged.head()"
   ]
  },
  {
   "cell_type": "code",
   "execution_count": 318,
   "id": "dcb15a83-b940-4763-89c4-fa47abe95048",
   "metadata": {},
   "outputs": [
    {
     "name": "stderr",
     "output_type": "stream",
     "text": [
      "C:\\WINDOWS\\TEMP/ipykernel_8112/3997642578.py:1: SettingWithCopyWarning: \n",
      "A value is trying to be set on a copy of a slice from a DataFrame.\n",
      "Try using .loc[row_indexer,col_indexer] = value instead\n",
      "\n",
      "See the caveats in the documentation: https://pandas.pydata.org/pandas-docs/stable/user_guide/indexing.html#returning-a-view-versus-a-copy\n",
      "  merged['ID'] = merged['ID'].astype(int)\n"
     ]
    }
   ],
   "source": [
    "merged['ID'] = merged['ID'].astype(int)"
   ]
  },
  {
   "cell_type": "code",
   "execution_count": 319,
   "id": "b57c8a82-6d27-40cc-b70e-0208d8e32e11",
   "metadata": {},
   "outputs": [],
   "source": [
    "merged.to_csv('repo/filtered_reviews.csv')"
   ]
  },
  {
   "cell_type": "code",
   "execution_count": null,
   "id": "e7982467-ced5-43d1-b760-305205832abc",
   "metadata": {},
   "outputs": [],
   "source": []
  }
 ],
 "metadata": {
  "kernelspec": {
   "display_name": "Python 3 (ipykernel)",
   "language": "python",
   "name": "python3"
  },
  "language_info": {
   "codemirror_mode": {
    "name": "ipython",
    "version": 3
   },
   "file_extension": ".py",
   "mimetype": "text/x-python",
   "name": "python",
   "nbconvert_exporter": "python",
   "pygments_lexer": "ipython3",
   "version": "3.9.7"
  }
 },
 "nbformat": 4,
 "nbformat_minor": 5
}
